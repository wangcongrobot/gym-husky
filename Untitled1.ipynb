{
 "cells": [
  {
   "cell_type": "markdown",
   "metadata": {},
   "source": [
    "A simple version of Proximal Policy Optimization (PPO) using single thread.\n",
    "\n",
    "Based on：\n",
    "1. Emergence of Locomotion Behaviours in Rich Environments (Google Deepmind):\n",
    "2. Proximal Policy Optimization Algorithms (OpenAI)\n",
    "\n",
    "Dependencies:\n",
    "tensorflow r1.2\n",
    "gym 0.9.2"
   ]
  },
  {
   "cell_type": "code",
   "execution_count": null,
   "metadata": {},
   "outputs": [],
   "source": [
    "import tensorflow as tf\n",
    "import numpy as np\n",
    "import matplotlib.pyplot as plt\n",
    "import gym"
   ]
  },
  {
   "cell_type": "code",
   "execution_count": null,
   "metadata": {},
   "outputs": [],
   "source": [
    "EM_MAX = 1000\n",
    "EP_LEN = 200\n",
    "GAMMA = 0.9\n",
    "A_LR = 0.0001\n",
    "C_LR = 0.0002\n",
    "BATCH = 32\n",
    "A_UPDATE_STEPS = 10\n",
    "C_UPDATE_STEPS = 10\n",
    "S_DIM, A_DIM = 3, 1\n",
    "METHOD = [\n",
    "    dict(name='kl_pen', kl_target=0.01, lam=0.5), # KL penalty\n",
    "    dict(name='clip', epsilon=0.2),               # Clipped surrogate objective, \n",
    "                                                  # find this is better choose the  method for optimization\n",
    "]"
   ]
  },
  {
   "cell_type": "code",
   "execution_count": null,
   "metadata": {},
   "outputs": [],
   "source": [
    "class PPO(object):\n",
    "    \n",
    "    def __init__(self):\n",
    "        self.sess = tf.Session()\n",
    "        self.tfs = tf.placeholder(tf.float32, [None, S_DIM], 'state')\n",
    "        \n",
    "        # critic\n",
    "        with tf.variable_scope('critic'):\n",
    "            l1 = tf.layers.dense(self.tfs, 100, tf.nn.relu)\n",
    "            self.v = tf.layers.dense(l1, 1)\n",
    "            self.tfdc_r = tf.placeholder(tf.float32, [None, 1], 'discounted_r')\n",
    "            self.advantage = self.tfdc_r - self.v\n",
    "            self.closs = tf.reduce_mean(tf.square(self.advantage))\n",
    "            self.ctrain_op = tf.train.AdamOptimizer(C_LR).minimize(self.closs)\n",
    "            \n",
    "            "
   ]
  }
 ],
 "metadata": {
  "kernelspec": {
   "display_name": "Python 3",
   "language": "python",
   "name": "python3"
  },
  "language_info": {
   "codemirror_mode": {
    "name": "ipython",
    "version": 3
   },
   "file_extension": ".py",
   "mimetype": "text/x-python",
   "name": "python",
   "nbconvert_exporter": "python",
   "pygments_lexer": "ipython3",
   "version": "3.7.3"
  }
 },
 "nbformat": 4,
 "nbformat_minor": 2
}
